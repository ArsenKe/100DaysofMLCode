{
  "nbformat": 4,
  "nbformat_minor": 0,
  "metadata": {
    "colab": {
      "name": "Predicting Stock Prices.ipynb",
      "version": "0.3.2",
      "provenance": [],
      "include_colab_link": true
    },
    "kernelspec": {
      "name": "python3",
      "display_name": "Python 3"
    }
  },
  "cells": [
    {
      "cell_type": "markdown",
      "metadata": {
        "id": "view-in-github",
        "colab_type": "text"
      },
      "source": [
        "[View in Colaboratory](https://colab.research.google.com/github/TanayY/100DaysofMLCode/blob/master/Predicting_Stock_Prices.ipynb)"
      ]
    },
    {
      "metadata": {
        "id": "rnY_ZJ9vV5g4",
        "colab_type": "code",
        "colab": {}
      },
      "cell_type": "code",
      "source": [
        "import csv\n",
        "import numpy as np\n",
        "from sklearn.svm import SVR\n",
        "import matplotlib.pyplot as plt\n",
        "\n",
        "dates=[]\n",
        "prices=[]\n",
        "\n",
        "def get_data(filename):\n",
        "    with open(filename,'r') as csvfile:\n",
        "        csvFileReader=csv.reader(csvfile)\n",
        "        next(csvFileReader)\n",
        "        for row in csvFileReader:\n",
        "            dates.append(int(row[0].split('-')[2]))\n",
        "            prices.append(float(row[3]))\n",
        "    print(dates)\n",
        "    return\n",
        "def predict_prices(dates,prices,x):\n",
        "    dates=np.reshape(dates,(len(dates),1))\n",
        "    \n",
        "    svr_lin=SVR(kernel='linear', C=1e3)\n",
        "    svr_poly=SVR(kernel='poly',C=1e3, degree=2)\n",
        "    svr_rbf=SVR(kernel='rbf', C=1e3, gamma=0.1)\n",
        "    \n",
        "    svr_lin.fit(dates,prices)\n",
        "    svr_poly.fit(dates,prices)\n",
        "    svr_rbf.fit(dates,prices)\n",
        "    \n",
        "    plt.scatter(dates,prices,color='black', label='Data')\n",
        "    plt.plot(dates, svr_rbf.predict(dates), color='red', label='RBF model')\n",
        "    plt.plot(dates, svr_lin.predict(dates), color='green', label='Linear Model')\n",
        "    plt.plot(dates, svr_poly.predict(dates), color='blue', label='Polynomial Model')\n",
        "    \n",
        "    \n",
        "    plt.xlabel('Date')\n",
        "    plt.ylabel('Price')\n",
        "    plt.title('Support Vector Regression')\n",
        "    plt.legend()\n",
        "    plt.show()\n",
        "    \n",
        "    return svr_rbf.predict(x)[0], svr_lin.predict(x)[0], svr_poly.predict(x)[0]\n",
        "\n",
        "get_data('aapl.csv')\n",
        "\n",
        "predicted_price= predict_prices(dates,prices, 29)\n",
        "\n",
        "print(predicted_price)\n",
        "\n"
      ],
      "execution_count": 0,
      "outputs": []
    }
  ]
}