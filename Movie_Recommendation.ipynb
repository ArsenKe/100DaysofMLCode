{
  "nbformat": 4,
  "nbformat_minor": 0,
  "metadata": {
    "colab": {
      "name": "Movie Recommendation.ipynb",
      "version": "0.3.2",
      "provenance": [],
      "include_colab_link": true
    },
    "kernelspec": {
      "name": "python3",
      "display_name": "Python 3"
    }
  },
  "cells": [
    {
      "cell_type": "markdown",
      "metadata": {
        "id": "view-in-github",
        "colab_type": "text"
      },
      "source": [
        "[View in Colaboratory](https://colab.research.google.com/github/TanayY/100DaysofMLCode/blob/master/Movie_Recommendation.ipynb)"
      ]
    },
    {
      "metadata": {
        "id": "Rar0AlhCKrj0",
        "colab_type": "code",
        "colab": {
          "base_uri": "https://localhost:8080/",
          "height": 289
        },
        "outputId": "f4d45b2d-399e-4b56-9a9a-7443b5f34eaf"
      },
      "cell_type": "code",
      "source": [
        "!pip install lightfm"
      ],
      "execution_count": 1,
      "outputs": [
        {
          "output_type": "stream",
          "text": [
            "Collecting lightfm\n",
            "\u001b[?25l  Downloading https://files.pythonhosted.org/packages/e9/8e/5485ac5a8616abe1c673d1e033e2f232b4319ab95424b42499fabff2257f/lightfm-1.15.tar.gz (302kB)\n",
            "\u001b[K    100% |████████████████████████████████| 307kB 7.4MB/s \n",
            "\u001b[?25hRequirement already satisfied: numpy in /usr/local/lib/python3.6/dist-packages (from lightfm) (1.14.6)\n",
            "Requirement already satisfied: scipy>=0.17.0 in /usr/local/lib/python3.6/dist-packages (from lightfm) (0.19.1)\n",
            "Requirement already satisfied: requests in /usr/local/lib/python3.6/dist-packages (from lightfm) (2.18.4)\n",
            "Requirement already satisfied: urllib3<1.23,>=1.21.1 in /usr/local/lib/python3.6/dist-packages (from requests->lightfm) (1.22)\n",
            "Requirement already satisfied: idna<2.7,>=2.5 in /usr/local/lib/python3.6/dist-packages (from requests->lightfm) (2.6)\n",
            "Requirement already satisfied: certifi>=2017.4.17 in /usr/local/lib/python3.6/dist-packages (from requests->lightfm) (2018.8.24)\n",
            "Requirement already satisfied: chardet<3.1.0,>=3.0.2 in /usr/local/lib/python3.6/dist-packages (from requests->lightfm) (3.0.4)\n",
            "Building wheels for collected packages: lightfm\n",
            "  Running setup.py bdist_wheel for lightfm ... \u001b[?25l-\b \b\\\b \b|\b \b/\b \bdone\n",
            "\u001b[?25h  Stored in directory: /root/.cache/pip/wheels/eb/bb/ac/188385a5da6627956be5d9663928483b36da576149ab5b8f79\n",
            "Successfully built lightfm\n",
            "Installing collected packages: lightfm\n",
            "Successfully installed lightfm-1.15\n"
          ],
          "name": "stdout"
        }
      ]
    },
    {
      "metadata": {
        "id": "SHxeOolPK-Bh",
        "colab_type": "code",
        "colab": {
          "base_uri": "https://localhost:8080/",
          "height": 85
        },
        "outputId": "d7e8fb17-f96a-4239-f8c4-43f8f52b75cc"
      },
      "cell_type": "code",
      "source": [
        "import numpy as np\n",
        "from lightfm.datasets import fetch_movielens\n",
        "from lightfm import LightFM\n",
        "\n",
        "data=fetch_movielens(min_rating=4.0)\n",
        "\n",
        "print(repr(data['train']))\n",
        "print(repr(data['test']))\n",
        "\n"
      ],
      "execution_count": 2,
      "outputs": [
        {
          "output_type": "stream",
          "text": [
            "<943x1682 sparse matrix of type '<class 'numpy.int32'>'\n",
            "\twith 49906 stored elements in COOrdinate format>\n",
            "<943x1682 sparse matrix of type '<class 'numpy.int32'>'\n",
            "\twith 5469 stored elements in COOrdinate format>\n"
          ],
          "name": "stdout"
        }
      ]
    },
    {
      "metadata": {
        "id": "F36vL7CAL_ma",
        "colab_type": "code",
        "colab": {
          "base_uri": "https://localhost:8080/",
          "height": 2754
        },
        "outputId": "828f0cf3-d80b-4b49-b9e1-dec607ce57ee"
      },
      "cell_type": "code",
      "source": [
        "model = LightFM(loss='warp')\n",
        "\n",
        "model.fit(data['train'], epochs=30, num_threads=2)\n",
        "\n",
        "def sample_recommendation(model,data,user_ids):\n",
        "  \n",
        "  n_users, n_items = data['train'].shape\n",
        "  \n",
        "  for user_id in user_ids:\n",
        "    \n",
        "    known_positives = data['item_labels'][data['train'].tocsr()[user_id].indices]\n",
        "    scores = model.predict(user_id, np.arange(n_items))\n",
        "    \n",
        "    top_items = data['item_labels'][np.argsort(-scores)]\n",
        "    \n",
        "    print(\"User %s\" % user_id)\n",
        "    print(\"      Known positives:\")\n",
        "    \n",
        "    for x in known_positives[:30]:\n",
        "      print(\"             %s\"% x)\n",
        "      \n",
        "    print(\"         Recommended:\")\n",
        "    \n",
        "    for x in top_items[:30]:\n",
        "      print(\"            %s\" % x)\n",
        "    \n",
        "    \n",
        "sample_recommendation(model,data,[3,25,450])"
      ],
      "execution_count": 3,
      "outputs": [
        {
          "output_type": "stream",
          "text": [
            "User 3\n",
            "      Known positives:\n",
            "             Seven (Se7en) (1995)\n",
            "             Contact (1997)\n",
            "             Starship Troopers (1997)\n",
            "             Air Force One (1997)\n",
            "             In & Out (1997)\n",
            "             Lost Highway (1997)\n",
            "             Cop Land (1997)\n",
            "             Desperate Measures (1998)\n",
            "             Assignment, The (1997)\n",
            "             Wonderland (1997)\n",
            "             Blues Brothers 2000 (1998)\n",
            "         Recommended:\n",
            "            Scream (1996)\n",
            "            Chasing Amy (1997)\n",
            "            Contact (1997)\n",
            "            Starship Troopers (1997)\n",
            "            Cop Land (1997)\n",
            "            Happy Gilmore (1996)\n",
            "            Alien: Resurrection (1997)\n",
            "            Chasing Amy (1997)\n",
            "            Lost Highway (1997)\n",
            "            Scream 2 (1997)\n",
            "            Evita (1996)\n",
            "            Boogie Nights (1997)\n",
            "            Crash (1996)\n",
            "            In & Out (1997)\n",
            "            Replacement Killers, The (1998)\n",
            "            Air Force One (1997)\n",
            "            Spawn (1997)\n",
            "            Money Talks (1997)\n",
            "            Conspiracy Theory (1997)\n",
            "            Full Monty, The (1997)\n",
            "            Titanic (1997)\n",
            "            I Know What You Did Last Summer (1997)\n",
            "            Dante's Peak (1997)\n",
            "            Fifth Element, The (1997)\n",
            "            Desperate Measures (1998)\n",
            "            Austin Powers: International Man of Mystery (1997)\n",
            "            L.A. Confidential (1997)\n",
            "            Face/Off (1997)\n",
            "            Kolya (1996)\n",
            "            Saint, The (1997)\n",
            "User 25\n",
            "      Known positives:\n",
            "             Dead Man Walking (1995)\n",
            "             Star Wars (1977)\n",
            "             Fargo (1996)\n",
            "             Spitfire Grill, The (1996)\n",
            "             Godfather, The (1972)\n",
            "             Bound (1996)\n",
            "             Return of the Jedi (1983)\n",
            "             Chasing Amy (1997)\n",
            "             Full Monty, The (1997)\n",
            "             Leaving Las Vegas (1995)\n",
            "             Time to Kill, A (1996)\n",
            "             Scream (1996)\n",
            "             Air Force One (1997)\n",
            "             L.A. Confidential (1997)\n",
            "             Fly Away Home (1996)\n",
            "             Titanic (1997)\n",
            "             Boot, Das (1981)\n",
            "             Amistad (1997)\n",
            "             Tomorrow Never Dies (1997)\n",
            "             Brassed Off (1996)\n",
            "             Private Parts (1997)\n",
            "         Recommended:\n",
            "            English Patient, The (1996)\n",
            "            Fargo (1996)\n",
            "            L.A. Confidential (1997)\n",
            "            Contact (1997)\n",
            "            Titanic (1997)\n",
            "            Godfather, The (1972)\n",
            "            Leaving Las Vegas (1995)\n",
            "            Jerry Maguire (1996)\n",
            "            Dead Man Walking (1995)\n",
            "            Good Will Hunting (1997)\n",
            "            Air Force One (1997)\n",
            "            Full Monty, The (1997)\n",
            "            Star Wars (1977)\n",
            "            Secrets & Lies (1996)\n",
            "            Sense and Sensibility (1995)\n",
            "            Chasing Amy (1997)\n",
            "            Lone Star (1996)\n",
            "            Scream (1996)\n",
            "            Game, The (1997)\n",
            "            Twelve Monkeys (1995)\n",
            "            People vs. Larry Flynt, The (1996)\n",
            "            Apt Pupil (1998)\n",
            "            Boogie Nights (1997)\n",
            "            Toy Story (1995)\n",
            "            As Good As It Gets (1997)\n",
            "            Return of the Jedi (1983)\n",
            "            Trainspotting (1996)\n",
            "            Amistad (1997)\n",
            "            Postino, Il (1994)\n",
            "            Mr. Holland's Opus (1995)\n",
            "User 450\n",
            "      Known positives:\n",
            "             Contact (1997)\n",
            "             George of the Jungle (1997)\n",
            "             Event Horizon (1997)\n",
            "             Gattaca (1997)\n",
            "             Scream (1996)\n",
            "             In & Out (1997)\n",
            "             Devil's Advocate, The (1997)\n",
            "             Murder at 1600 (1997)\n",
            "             Lost Highway (1997)\n",
            "             G.I. Jane (1997)\n",
            "             Cop Land (1997)\n",
            "             Conspiracy Theory (1997)\n",
            "             Desperate Measures (1998)\n",
            "             Edge, The (1997)\n",
            "             Kiss the Girls (1997)\n",
            "             Game, The (1997)\n",
            "             How to Be a Player (1997)\n",
            "             Playing God (1997)\n",
            "             Volcano (1997)\n",
            "             I Know What You Did Last Summer (1997)\n",
            "             Seven Years in Tibet (1997)\n",
            "             Saint, The (1997)\n",
            "             Picture Perfect (1997)\n",
            "             Career Girls (1997)\n",
            "             Money Talks (1997)\n",
            "             Excess Baggage (1997)\n",
            "             Peacemaker, The (1997)\n",
            "             Money Talks (1997)\n",
            "             Life Less Ordinary, A (1997)\n",
            "             Thousand Acres, A (1997)\n",
            "         Recommended:\n",
            "            Air Force One (1997)\n",
            "            Dante's Peak (1997)\n",
            "            Money Talks (1997)\n",
            "            Saint, The (1997)\n",
            "            Conspiracy Theory (1997)\n",
            "            Seven Years in Tibet (1997)\n",
            "            G.I. Jane (1997)\n",
            "            Game, The (1997)\n",
            "            Scream (1996)\n",
            "            Devil's Own, The (1997)\n",
            "            Volcano (1997)\n",
            "            Anastasia (1997)\n",
            "            Excess Baggage (1997)\n",
            "            Thousand Acres, A (1997)\n",
            "            Devil's Advocate, The (1997)\n",
            "            Shadow Conspiracy (1997)\n",
            "            Boogie Nights (1997)\n",
            "            Titanic (1997)\n",
            "            Gattaca (1997)\n",
            "            Kiss the Girls (1997)\n",
            "            Jungle2Jungle (1997)\n",
            "            Contact (1997)\n",
            "            I Know What You Did Last Summer (1997)\n",
            "            Alien: Resurrection (1997)\n",
            "            Edge, The (1997)\n",
            "            Murder at 1600 (1997)\n",
            "            Desperate Measures (1998)\n",
            "            Peacemaker, The (1997)\n",
            "            Rainmaker, The (1997)\n",
            "            Scream 2 (1997)\n"
          ],
          "name": "stdout"
        }
      ]
    },
    {
      "metadata": {
        "id": "D9lsFzQeVQsb",
        "colab_type": "code",
        "colab": {}
      },
      "cell_type": "code",
      "source": [
        ""
      ],
      "execution_count": 0,
      "outputs": []
    }
  ]
}