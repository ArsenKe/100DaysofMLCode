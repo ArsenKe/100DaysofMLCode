{
  "nbformat": 4,
  "nbformat_minor": 0,
  "metadata": {
    "colab": {
      "name": "Predicting body Weight.ipynb",
      "version": "0.3.2",
      "provenance": [],
      "include_colab_link": true
    },
    "kernelspec": {
      "name": "python3",
      "display_name": "Python 3"
    }
  },
  "cells": [
    {
      "cell_type": "markdown",
      "metadata": {
        "id": "view-in-github",
        "colab_type": "text"
      },
      "source": [
        "[View in Colaboratory](https://colab.research.google.com/github/TanayY/100DaysofMLCode/blob/master/Predicting_body_Weight.ipynb)"
      ]
    },
    {
      "metadata": {
        "id": "AuIyWiyzXa3Q",
        "colab_type": "code",
        "colab": {}
      },
      "cell_type": "code",
      "source": [
        "import pandas as pd\n",
        "from sklearn import linear_model\n",
        "import matplotlib.pyplot as plt"
      ],
      "execution_count": 0,
      "outputs": []
    },
    {
      "metadata": {
        "id": "NU3S7VYQXbyL",
        "colab_type": "code",
        "colab": {}
      },
      "cell_type": "code",
      "source": [
        "dataframe = pd.read_fwf('brain_body.txt')"
      ],
      "execution_count": 0,
      "outputs": []
    },
    {
      "metadata": {
        "id": "YHXOUvVYXe3c",
        "colab_type": "code",
        "colab": {}
      },
      "cell_type": "code",
      "source": [
        "x_values = dataframe[['Brain']]\n",
        "y_values = dataframe[['Body']]\n",
        "\n",
        "body_reg = linear_model.LinearRegression()\n",
        "body_reg.fit(x_values,y_values)\n",
        "\n",
        "plt.scatter(x_values,y_values)\n",
        "plt.plot(x_values,body_reg.predict(x_values))\n",
        "plt.show"
      ],
      "execution_count": 0,
      "outputs": []
    }
  ]
}