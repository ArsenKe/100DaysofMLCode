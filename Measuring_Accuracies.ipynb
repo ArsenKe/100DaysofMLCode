{
  "nbformat": 4,
  "nbformat_minor": 0,
  "metadata": {
    "colab": {
      "name": "Measuring Accuracies.ipynb",
      "version": "0.3.2",
      "provenance": [],
      "include_colab_link": true
    },
    "kernelspec": {
      "name": "python3",
      "display_name": "Python 3"
    }
  },
  "cells": [
    {
      "cell_type": "markdown",
      "metadata": {
        "id": "view-in-github",
        "colab_type": "text"
      },
      "source": [
        "[View in Colaboratory](https://colab.research.google.com/github/TanayY/100DaysofMLCode/blob/master/Measuring_Accuracies.ipynb)"
      ]
    },
    {
      "metadata": {
        "id": "7wkpb8rsnEGF",
        "colab_type": "code",
        "colab": {
          "base_uri": "https://localhost:8080/",
          "height": 34
        },
        "outputId": "6378149c-9929-4a2e-d49c-09c0c003843f"
      },
      "cell_type": "code",
      "source": [
        "#import a dataset\n",
        "from sklearn import datasets\n",
        "iris = datasets.load_iris()\n",
        "\n",
        "\n",
        "X = iris.data\n",
        "y= iris.target\n",
        "\n",
        "from sklearn.cross_validation import train_test_split\n",
        "X_train, X_test, y_train, y_test = train_test_split(X,y, test_size= .5)\n",
        "\n",
        "from sklearn import tree\n",
        "my_classifier = tree.DecisionTreeClassifier()\n",
        "\n",
        "my_classifier.fit(X_train, y_train)\n",
        "\n",
        "predictions = my_classifier.predict(X_test)\n",
        "\n",
        "from sklearn.metrics import accuracy_score \n",
        "print (accuracy_score(y_test,predictions))\n"
      ],
      "execution_count": 6,
      "outputs": [
        {
          "output_type": "stream",
          "text": [
            "0.9466666666666667\n"
          ],
          "name": "stdout"
        }
      ]
    },
    {
      "metadata": {
        "id": "4dmqJxdsoxxh",
        "colab_type": "code",
        "colab": {
          "base_uri": "https://localhost:8080/",
          "height": 34
        },
        "outputId": "189762c0-90a2-410e-8e5f-be9cfcde9112"
      },
      "cell_type": "code",
      "source": [
        "#import a dataset\n",
        "from sklearn import datasets\n",
        "iris = datasets.load_iris()\n",
        "\n",
        "\n",
        "X = iris.data\n",
        "y= iris.target\n",
        "\n",
        "from sklearn.cross_validation import train_test_split\n",
        "X_train, X_test, y_train, y_test = train_test_split(X,y, test_size= .5)\n",
        "\n",
        "from sklearn.neighbors import KNeighborsClassifier\n",
        "my_classifier = KNeighborsClassifier()\n",
        "\n",
        "my_classifier.fit(X_train, y_train)\n",
        "\n",
        "predictions = my_classifier.predict(X_test)\n",
        "\n",
        "from sklearn.metrics import accuracy_score \n",
        "print (accuracy_score(y_test,predictions))\n"
      ],
      "execution_count": 5,
      "outputs": [
        {
          "output_type": "stream",
          "text": [
            "0.9866666666666667\n"
          ],
          "name": "stdout"
        }
      ]
    },
    {
      "metadata": {
        "id": "mFdWe2NSpL_h",
        "colab_type": "code",
        "colab": {}
      },
      "cell_type": "code",
      "source": [
        ""
      ],
      "execution_count": 0,
      "outputs": []
    }
  ]
}