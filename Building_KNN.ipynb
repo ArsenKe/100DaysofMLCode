{
  "nbformat": 4,
  "nbformat_minor": 0,
  "metadata": {
    "colab": {
      "name": "Building KNN.ipynb",
      "version": "0.3.2",
      "provenance": [],
      "collapsed_sections": [],
      "include_colab_link": true
    },
    "kernelspec": {
      "name": "python3",
      "display_name": "Python 3"
    }
  },
  "cells": [
    {
      "cell_type": "markdown",
      "metadata": {
        "id": "view-in-github",
        "colab_type": "text"
      },
      "source": [
        "[View in Colaboratory](https://colab.research.google.com/github/TanayY/100DaysofMLCode/blob/master/Building_KNN.ipynb)"
      ]
    },
    {
      "metadata": {
        "id": "8ziK9rT1JqNw",
        "colab_type": "code",
        "colab": {
          "base_uri": "https://localhost:8080/",
          "height": 33
        },
        "outputId": "3743f324-6d5c-49c4-bfdb-e05e67b9909a"
      },
      "cell_type": "code",
      "source": [
        "from scipy.spatial import distance\n",
        "\n",
        "def euc(a,b):\n",
        "  return distance.euclidean(a,b)\n",
        "  \n",
        "class SKNN():\n",
        "  def fit(self, X_train, y_train):\n",
        "    self.X_train= X_train\n",
        "    self.y_train= y_train\n",
        "    \n",
        "  def predict(self, X_test):\n",
        "    predictions = []\n",
        "    for row in X_test:\n",
        "      label =self.closest(row)\n",
        "      predictions.append(label)\n",
        "    return predictions\n",
        "  \n",
        "  def closest(self,row):\n",
        "    best_dist =euc(row, self.X_train[0])\n",
        "    best_index = 0\n",
        "    for i in range(1,len(self.X_train)):\n",
        "      dist=(euc(row, self.X_train[i]))\n",
        "      if dist < best_dist:\n",
        "        best_dist = dist\n",
        "        best_index = i\n",
        "    return self.y_train[best_index]\n",
        "\n",
        "  \n",
        "  \n",
        "from sklearn import datasets\n",
        "iris = datasets.load_iris()\n",
        "\n",
        "X = iris.data\n",
        "y= iris.target\n",
        "\n",
        "from sklearn.cross_validation import train_test_split\n",
        "X_train, X_test, y_train, y_test = train_test_split(X,y, test_size= .5)\n",
        "\n",
        "from sklearn.neighbors import KNeighborsClassifier\n",
        "my_classifier =SKNN()\n",
        "\n",
        "my_classifier.fit(X_train, y_train)\n",
        "\n",
        "predictions = my_classifier.predict(X_test)\n",
        "\n",
        "from sklearn.metrics import accuracy_score \n",
        "print (accuracy_score(y_test,predictions))\n"
      ],
      "execution_count": 7,
      "outputs": [
        {
          "output_type": "stream",
          "text": [
            "0.96\n"
          ],
          "name": "stdout"
        }
      ]
    }
  ]
}