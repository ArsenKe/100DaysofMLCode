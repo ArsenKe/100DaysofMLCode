{
  "nbformat": 4,
  "nbformat_minor": 0,
  "metadata": {
    "colab": {
      "name": "Twitter Sentiment Analysis.ipynb",
      "version": "0.3.2",
      "provenance": [],
      "include_colab_link": true
    },
    "kernelspec": {
      "name": "python3",
      "display_name": "Python 3"
    }
  },
  "cells": [
    {
      "cell_type": "markdown",
      "metadata": {
        "id": "view-in-github",
        "colab_type": "text"
      },
      "source": [
        "[View in Colaboratory](https://colab.research.google.com/github/TanayY/100DaysofMLCode/blob/master/Twitter_Sentiment_Analysis.ipynb)"
      ]
    },
    {
      "metadata": {
        "id": "7SN5WVLlirT9",
        "colab_type": "code",
        "colab": {
          "base_uri": "https://localhost:8080/",
          "height": 258
        },
        "outputId": "e6bb26b3-c450-4540-a1e0-f4bb0af2fa2f"
      },
      "cell_type": "code",
      "source": [
        "!pip install TextBlob\n",
        "from textblob import TextBlob\n",
        "import nltk\n",
        "nltk.download('punkt')\n",
        "nltk.download('averaged_perceptron_tagger')\n",
        "wiki=TextBlob(\"Tanay is happy because he gets good matches on Tinder.\")\n",
        "wiki.tags\n",
        "wiki.words\n",
        "wiki.sentiment.polarity"
      ],
      "execution_count": 2,
      "outputs": [
        {
          "output_type": "stream",
          "text": [
            "Collecting TextBlob\n",
            "\u001b[?25l  Downloading https://files.pythonhosted.org/packages/11/18/7f55c8be6d68ddc4036ffda5382ca51e23a1075987f708b9123712091af1/textblob-0.15.1-py2.py3-none-any.whl (631kB)\n",
            "\u001b[K    100% |████████████████████████████████| 634kB 7.8MB/s \n",
            "\u001b[?25hRequirement already satisfied: nltk>=3.1 in /usr/local/lib/python3.6/dist-packages (from TextBlob) (3.2.5)\n",
            "Requirement already satisfied: six in /usr/local/lib/python3.6/dist-packages (from nltk>=3.1->TextBlob) (1.11.0)\n",
            "Installing collected packages: TextBlob\n",
            "Successfully installed TextBlob-0.15.1\n",
            "[nltk_data] Downloading package punkt to /root/nltk_data...\n",
            "[nltk_data]   Unzipping tokenizers/punkt.zip.\n",
            "[nltk_data] Downloading package averaged_perceptron_tagger to\n",
            "[nltk_data]     /root/nltk_data...\n",
            "[nltk_data]   Unzipping taggers/averaged_perceptron_tagger.zip.\n"
          ],
          "name": "stdout"
        },
        {
          "output_type": "execute_result",
          "data": {
            "text/plain": [
              "0.75"
            ]
          },
          "metadata": {
            "tags": []
          },
          "execution_count": 2
        }
      ]
    },
    {
      "metadata": {
        "id": "XeDrDaUQo4_z",
        "colab_type": "code",
        "colab": {
          "base_uri": "https://localhost:8080/",
          "height": 952
        },
        "outputId": "3cae07bc-6051-4040-b648-6aba16af9cb8"
      },
      "cell_type": "code",
      "source": [
        "!pip install tweepy\n",
        "import tweepy\n",
        "\n",
        "consumer_key='GnnFRpPAUPyEpZ7IP3BPr7IX4'\n",
        "consumer_secret='9Tuaf38bSaXCFKcREFrjL9KkkofiAzIpidjXkFjIIMb7swSzl8'\n",
        "\n",
        "access_token='943938943606669312-d22gQJXEhMxtaAOV0Sn0yjEZ5sFYKQK'\n",
        "access_token_secret='S53lrWSTy918Xfttr5Ndx9CXd53xIqHvaY5GOcxF2MfL1'\n",
        "\n",
        "auth=tweepy.OAuthHandler(consumer_key,consumer_secret)\n",
        "\n",
        "auth.set_access_token(access_token,access_token_secret)\n",
        "\n",
        "api=tweepy.API(auth)\n",
        "\n",
        "public_tweets = api.search('Trump')\n",
        "\n",
        "for tweet in public_tweets:\n",
        "  print(tweet.text)\n",
        "  analysis=TextBlob(tweet.text)\n",
        "  print(analysis.sentiment)"
      ],
      "execution_count": 4,
      "outputs": [
        {
          "output_type": "stream",
          "text": [
            "Collecting tweepy\n",
            "  Downloading https://files.pythonhosted.org/packages/05/f1/2e8c7b202dd04117a378ac0c55cc7dafa80280ebd7f692f1fa8f27fd6288/tweepy-3.6.0-py2.py3-none-any.whl\n",
            "Requirement already satisfied: six>=1.10.0 in /usr/local/lib/python3.6/dist-packages (from tweepy) (1.11.0)\n",
            "Collecting PySocks>=1.5.7 (from tweepy)\n",
            "\u001b[?25l  Downloading https://files.pythonhosted.org/packages/53/12/6bf1d764f128636cef7408e8156b7235b150ea31650d0260969215bb8e7d/PySocks-1.6.8.tar.gz (283kB)\n",
            "\u001b[K    100% |████████████████████████████████| 286kB 7.4MB/s \n",
            "\u001b[?25hRequirement already satisfied: requests-oauthlib>=0.7.0 in /usr/local/lib/python3.6/dist-packages (from tweepy) (1.0.0)\n",
            "Requirement already satisfied: requests>=2.11.1 in /usr/local/lib/python3.6/dist-packages (from tweepy) (2.18.4)\n",
            "Requirement already satisfied: oauthlib>=0.6.2 in /usr/local/lib/python3.6/dist-packages (from requests-oauthlib>=0.7.0->tweepy) (2.1.0)\n",
            "Requirement already satisfied: idna<2.7,>=2.5 in /usr/local/lib/python3.6/dist-packages (from requests>=2.11.1->tweepy) (2.6)\n",
            "Requirement already satisfied: certifi>=2017.4.17 in /usr/local/lib/python3.6/dist-packages (from requests>=2.11.1->tweepy) (2018.8.24)\n",
            "Requirement already satisfied: urllib3<1.23,>=1.21.1 in /usr/local/lib/python3.6/dist-packages (from requests>=2.11.1->tweepy) (1.22)\n",
            "Requirement already satisfied: chardet<3.1.0,>=3.0.2 in /usr/local/lib/python3.6/dist-packages (from requests>=2.11.1->tweepy) (3.0.4)\n",
            "Building wheels for collected packages: PySocks\n",
            "  Running setup.py bdist_wheel for PySocks ... \u001b[?25l-\b \bdone\n",
            "\u001b[?25h  Stored in directory: /root/.cache/pip/wheels/22/5c/b5/12e0dfdfa85bea67b23628b6425fae715c687e947a45ee3df9\n",
            "Successfully built PySocks\n",
            "Installing collected packages: PySocks, tweepy\n",
            "Successfully installed PySocks-1.6.8 tweepy-3.6.0\n",
            "RT @Breaking911: JUST IN: U.S. Navy veteran charged in Utah with five federal felony counts over ricin threat targeting Trump, defense secr…\n",
            "Sentiment(polarity=0.0, subjectivity=0.0)\n",
            "RT @charliekirk11: Lisa Murkowski, you represent a state that Trump won by 15 points\n",
            "\n",
            "You campaigned on conservative values &amp; putting stron…\n",
            "Sentiment(polarity=0.0, subjectivity=0.0)\n",
            "RT @ohiogop: Happy #MFGDay2018! American manufacturing jobs are growing at the fastest rate since 1995 thanks to President Trump &amp; Republic…\n",
            "Sentiment(polarity=0.39999999999999997, subjectivity=0.39999999999999997)\n",
            "RT @thinkprogress: Trump tweets out anti-Semitic conspiracy theory about George Soros https://t.co/snPy7UXC7c https://t.co/BEMnDpPrEq\n",
            "Sentiment(polarity=0.0, subjectivity=0.0)\n",
            "RT @MatthewWolfff: This is source of the #Kompromat Putin has on Trump. It won’t be pee tapes or hookers. It will be money Russian oligarch…\n",
            "Sentiment(polarity=0.0, subjectivity=0.0)\n",
            "Oh how I wish it were true, Trump. https://t.co/yKzfwtrYvZ\n",
            "Sentiment(polarity=0.35, subjectivity=0.65)\n",
            "RT @SiddonsDan: Hillary: \n",
            "“Ahh, because, you know.. it's awfully good that someone with the temperament of Donald Trump is not in charge of…\n",
            "Sentiment(polarity=0.7, subjectivity=0.6000000000000001)\n",
            "RT @JamesMelville: President Trump with toilet paper on his shoe as he boards Air Force One. A perfect metaphor for his Presidency.\n",
            "https:/…\n",
            "Sentiment(polarity=0.48333333333333334, subjectivity=0.5)\n",
            "The push for kavanaugh in the face of historic unpopularity, lies, abuse allegations.. seems to me the trump team k… https://t.co/RtQa6ezlMK\n",
            "Sentiment(polarity=0.0, subjectivity=0.0)\n",
            "RT @mdj17: Mary Matalin: \"Nothing Short Of A Miracle\" What Trump Has Got Done In The Face Of Constant Thwarting  \n",
            "\n",
            "QUIETLY, TRUMP CONTINUES…\n",
            "Sentiment(polarity=0.0, subjectivity=0.3222222222222222)\n",
            "RT @glenn87027633: I had a conversation with a “Born again Christian”, who was also a Trump supporter. Here’s a list of people she loathed…\n",
            "Sentiment(polarity=0.0, subjectivity=0.0)\n",
            "RT @DaveSchreiber3: There's so much to be thankful for regarding our POTUS Trump! I truly believe this man was heaven sent in order to save…\n",
            "Sentiment(polarity=0.25, subjectivity=0.2)\n",
            "\"Victory above all\" is breaking us. \n",
            "\n",
            "Spoke to a guy raging about opponents of Kavanaugh. Hoping for a normal convo… https://t.co/6jToy2Aqn2\n",
            "Sentiment(polarity=0.075, subjectivity=0.37499999999999994)\n",
            "@LifeSite Again Thank You ,President Trump And of Course Thank God\n",
            "Sentiment(polarity=0.0, subjectivity=0.0)\n"
          ],
          "name": "stdout"
        }
      ]
    },
    {
      "metadata": {
        "id": "ExpMMCAkrj7T",
        "colab_type": "code",
        "colab": {
          "base_uri": "https://localhost:8080/",
          "height": 782
        },
        "outputId": "174c315b-d2a9-4210-c316-5d6ce9a10462"
      },
      "cell_type": "code",
      "source": [
        "import pandas as pd\n",
        "import tweepy\n",
        "from textblob import TextBlob\n",
        "import pickle\n",
        "consumer_key=''\n",
        "consumer_secret= ''\n",
        "\n",
        "access_toker= ''\n",
        "access_token_secret= ''\n",
        "\n",
        "auth= tweepy.OAuthHandler(consumer_key,consumer_secret)\n",
        "auth.set_access_token(access_toker,access_token_secret)\n",
        "\n",
        "api=tweepy.API(auth)\n",
        "\n",
        "public_search = api.search('Technology')\n",
        "csv_row=[]\n",
        "csv_row2=[]\n",
        "for tweets in public_search:\n",
        "  print(tweets.text)\n",
        "  csv_row.append(tweets.text)\n",
        "  analysis= TextBlob(tweets.text)\n",
        "  print(analysis.sentiment)\n",
        "  csv_row2.append(analysis.sentiment)\n",
        "data=[[csv_row],[csv_row2]]\n",
        "df=pd.DataFrame(data)\n",
        "print (df)\n",
        "df.to_csv('mycsv.csv')\n"
      ],
      "execution_count": 5,
      "outputs": [
        {
          "output_type": "stream",
          "text": [
            "RT @PMOIndia: भारत Technology में नए अविष्कारों के क्षेत्रों, जैसे AI, IoT, 3D Printing के जरिए Industry 4.0 की तरफ आगे बढ़ चुका है।\n",
            "\n",
            "भारत…\n",
            "Sentiment(polarity=0.0, subjectivity=0.0)\n",
            "The best feeling in the world! 🤑Download ProxyPics to start earning! 📱🤳🏻💸\n",
            "\n",
            "#app #startup #tech #technology… https://t.co/ss9wYTEDcb\n",
            "Sentiment(polarity=1.0, subjectivity=0.3)\n",
            "RT @LamiaOy: A handy tip for a rainy day like this: Keep your feet dry. Shop online. #ecommerce #onlinebusiness #sales #technology https://…\n",
            "Sentiment(polarity=0.26666666666666666, subjectivity=0.75)\n",
            "Hoax papers included titles such as \"Going in through the back door: Challenging male straight homohysteria and tra… https://t.co/Rvg5SE1Vah\n",
            "Sentiment(polarity=0.13999999999999999, subjectivity=0.4)\n",
            "@Julianlewis Hello Dr Julian Lewis reported a few issues on hoax emails (fake paypal) to relevant bodies today to l… https://t.co/PprO36xLnR\n",
            "Sentiment(polarity=-0.09999999999999998, subjectivity=0.6666666666666666)\n",
            "now, with our newest technology, b*ttoms would no longer need a man! our device gives affection and tingles your h*… https://t.co/sDHaa4hn9C\n",
            "Sentiment(polarity=0.0, subjectivity=0.0)\n",
            "RT @PMOIndia: Human resource development से लेकर natural resources तक, \n",
            "\n",
            "trade से लेकर investment तक, \n",
            "\n",
            "नाभिकीय ऊर्जा के शान्तिपूर्ण सहयोग…\n",
            "Sentiment(polarity=0.05, subjectivity=0.25)\n",
            "RT @99082marklee: Shakiras manager: nct are here\n",
            "Shakira: who\n",
            "Manager: nct it standa for neo culture technology\n",
            "Shakira: did they come to f…\n",
            "Sentiment(polarity=0.0, subjectivity=0.0)\n",
            "RT @besatweet: Come along to the @alibaba_cloud offices in London for The future of education technology from the UK to China seminar on 18…\n",
            "Sentiment(polarity=0.0, subjectivity=0.125)\n",
            "@UnboxTherapy Remove it and sell a dongle. I don’t see any alternatives if u remove the selfie cam.Ex: For the head… https://t.co/yJJFvoezq9\n",
            "Sentiment(polarity=0.0, subjectivity=0.0)\n",
            "RT @Econ_Doc: Scientists &amp; entrepreneurs using modern technology are creating a blueprint for ending an age-old pest that up to now has pro…\n",
            "Sentiment(polarity=0.2, subjectivity=0.3)\n",
            "RT @FtscCor: #innovation Technology director of Spotify on how data changes musicology. With important extended meaning for algorithms: dat…\n",
            "Sentiment(polarity=0.4, subjectivity=1.0)\n",
            "Yesterday, We hosted @RitaBJoshi at our office @thepadosi and had a great discussion on the role of technology in m… https://t.co/FOTy63AHgn\n",
            "Sentiment(polarity=0.8, subjectivity=0.75)\n",
            "RT @KP_Police1: Finance Minister Taimur Jhagra met IGP @SalahuddinKhanM\n",
            "Fresh recruitment of 22K person from #FATA for policing in FATA &amp; m…\n",
            "Sentiment(polarity=0.3, subjectivity=0.5)\n",
            "RT @WalshFreedom: Smh. If this Facebook Executive was friends with Dr Ford and sat right behind her at her hearing, there'd be no problem a…\n",
            "Sentiment(polarity=-0.05714285714285716, subjectivity=0.6178571428571429)\n",
            "                                                   0\n",
            "0  [RT @PMOIndia: भारत Technology में नए अविष्कार...\n",
            "1  [(0.0, 0.0), (1.0, 0.3), (0.26666666666666666,...\n"
          ],
          "name": "stdout"
        }
      ]
    },
    {
      "metadata": {
        "id": "6bJJlnfzUsPL",
        "colab_type": "code",
        "colab": {}
      },
      "cell_type": "code",
      "source": [
        ""
      ],
      "execution_count": 0,
      "outputs": []
    }
  ]
}
