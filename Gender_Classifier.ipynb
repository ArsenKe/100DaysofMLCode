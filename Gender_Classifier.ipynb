{
  "nbformat": 4,
  "nbformat_minor": 0,
  "metadata": {
    "colab": {
      "name": "Gender Classifier",
      "version": "0.3.2",
      "provenance": [],
      "include_colab_link": true
    },
    "kernelspec": {
      "name": "python3",
      "display_name": "Python 3"
    }
  },
  "cells": [
    {
      "cell_type": "markdown",
      "metadata": {
        "id": "view-in-github",
        "colab_type": "text"
      },
      "source": [
        "[View in Colaboratory](https://colab.research.google.com/github/TanayY/100DaysofMLCode/blob/master/Gender_Classifier.ipynb)"
      ]
    },
    {
      "metadata": {
        "id": "kPOCXu1F0L5H",
        "colab_type": "code",
        "colab": {
          "base_uri": "https://localhost:8080/",
          "height": 34
        },
        "outputId": "d738a6c2-824a-44ce-874f-00f83a8ea00b"
      },
      "cell_type": "code",
      "source": [
        "from sklearn import tree\n",
        "\n",
        "x=[[181,80,44],[177,70,43],[160,60,38],[154,54,37],[166,65,40],[190,90,47],[175,64,40],[177,70,40],[155,59,37],[171,75,42],[181,85,43]]\n",
        "\n",
        "y=['male','female','female','female','male','male','male','female','male','female','male']\n",
        "\n",
        "clf=tree.DecisionTreeClassifier()\n",
        "\n",
        "clf=clf.fit(x,y)\n",
        "\n",
        "prediction=clf.predict([[160,60,34]])\n",
        "\n",
        "\n",
        "print (prediction)"
      ],
      "execution_count": 15,
      "outputs": [
        {
          "output_type": "stream",
          "text": [
            "['female']\n"
          ],
          "name": "stdout"
        }
      ]
    },
    {
      "metadata": {
        "id": "W_8kWxvQ4kTM",
        "colab_type": "code",
        "colab": {
          "base_uri": "https://localhost:8080/",
          "height": 34
        },
        "outputId": "664ae6fa-1107-4f56-e0f2-eb8e8e022995"
      },
      "cell_type": "code",
      "source": [
        "from sklearn.neighbors import KNeighborsClassifier\n",
        "x=[[181,80,44],[177,70,43],[160,60,38],[154,54,37],[166,65,40],[190,90,47],[175,64,40],[177,70,40],[155,59,37],[171,75,42],[181,85,43]]\n",
        "\n",
        "y=['male','female','female','female','male','male','male','female','male','female','male']\n",
        "\n",
        "\n",
        "neigh=KNeighborsClassifier(n_neighbors=3)\n",
        "\n",
        "neigh.fit(x,y)\n",
        "print(neigh.predict([[160,60,34]]))"
      ],
      "execution_count": 14,
      "outputs": [
        {
          "output_type": "stream",
          "text": [
            "['female']\n"
          ],
          "name": "stdout"
        }
      ]
    },
    {
      "metadata": {
        "id": "6DouXqjvsp7I",
        "colab_type": "code",
        "colab": {
          "base_uri": "https://localhost:8080/",
          "height": 34
        },
        "outputId": "b5a0dc8c-6904-437f-9f9b-a9de5fe23f14"
      },
      "cell_type": "code",
      "source": [
        "from sklearn.discriminant_analysis import QuadraticDiscriminantAnalysis\n",
        "\n",
        "x=[[181,80,44],[177,70,43],[160,60,38],[154,54,37],[166,65,40],[190,90,47],[175,64,40],[177,70,40],[155,59,37],[171,75,42],[181,85,43]]\n",
        "\n",
        "y=['male','female','female','female','male','male','male','female','male','female','male']\n",
        "\n",
        "clf=QuadraticDiscriminantAnalysis(priors=None, reg_param=0.0, store_covariance=False, store_covariances=None, tol=0.0001)\n",
        "\n",
        "clf.fit(x,y)\n",
        "\n",
        "print(clf.predict([[160,60,34]]))"
      ],
      "execution_count": 2,
      "outputs": [
        {
          "output_type": "stream",
          "text": [
            "['female']\n"
          ],
          "name": "stdout"
        }
      ]
    }
  ]
}